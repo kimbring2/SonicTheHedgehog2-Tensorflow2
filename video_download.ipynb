{
 "cells": [
  {
   "cell_type": "code",
   "execution_count": 19,
   "id": "5d348b12-f2ed-4f17-8770-5ff1bd43d682",
   "metadata": {
    "scrolled": true
   },
   "outputs": [
    {
     "name": "stdout",
     "output_type": "stream",
     "text": [
      "url:  https://www.youtube.com/watch?v=VNwF_-2s7Hc\n",
      "\n",
      "\n",
      "url:  https://www.youtube.com/watch?v=0uY9mZyBakw\n",
      "\n",
      "\n",
      "url:  https://www.youtube.com/watch?v=3h3pvhHJ1UM\n",
      "\n",
      "\n",
      "url:  https://www.youtube.com/watch?v=wQBU3rORULo\n",
      "\n",
      "\n",
      "url:  https://www.youtube.com/watch?v=-LwlGCkXj2w\n",
      "\n",
      "url:  https://www.youtube.com/watch?v=gIl1nsWRd_w\n",
      "\n",
      "url:  https://www.youtube.com/watch?v=USeLdoc34_w\n",
      "\n"
     ]
    }
   ],
   "source": [
    "from pytube import YouTube\n",
    "\n",
    "file = open(\"video_url.txt\", \"r\")\n",
    "\n",
    "while True:\n",
    "    content = file.readline()\n",
    "    if len(content) == 1:\n",
    "    \tbreak\n",
    "        \n",
    "    #print('############ S T A R T #############')\n",
    "    #print('content: ', content)\n",
    "    \n",
    "    url = content.split(',')[0]\n",
    "    #print('url: ', url)\n",
    "\n",
    "    yt = YouTube(url)\n",
    "    #print('video description: ', yt.description)\n",
    "    #print('rating', yt.rating)\n",
    "    #print('length', yt.length)\n",
    "    if yt.length >= 700:\n",
    "        print('url: ', url)\n",
    "        print(\"\")\n",
    "    #print('views', yt.views)\n",
    "\n",
    "    #print('############ E  N  D #############')\n",
    "    #print(\"\")\n",
    "    \n",
    "file.close()"
   ]
  },
  {
   "cell_type": "code",
   "execution_count": null,
   "id": "c577c95c-66ca-4822-a165-6324f5c28f32",
   "metadata": {},
   "outputs": [],
   "source": [
    "from pytube import YouTube\n",
    "\n",
    "YouTube('https://youtu.be/2lAe1cqCOXo').streams.first().download()\n",
    "yt = YouTube('http://youtube.com/watch?v=2lAe1cqCOXo')\n",
    "yt.streams"
   ]
  },
  {
   "cell_type": "code",
   "execution_count": 2,
   "id": "19b1942d-e7d8-4fa8-acad-00f2bc5338f9",
   "metadata": {},
   "outputs": [
    {
     "data": {
      "text/plain": [
       "'/media/kimbring2/be356a87-def6-4be8-bad2-077951f0f3da/Sonic-the-Hedgehog-A3C-LSTM-tensorflow2/Sonic the Hedgehog 2 - Chemical Plant Zone.mp4'"
      ]
     },
     "execution_count": 2,
     "metadata": {},
     "output_type": "execute_result"
    }
   ],
   "source": [
    "from pytube import YouTube\n",
    "\n",
    "YouTube('https://www.youtube.com/watch?v=I5oSBsD22r0&pp=ygUdY2hlbWljYWwgcGxhbnQgem9uZSAtIHNvbmljIDI%3D').streams.first().download()\n",
    "#yt = YouTube('http://youtube.com/watch?v=2lAe1cqCOXo')\n",
    "#yt.streams"
   ]
  },
  {
   "cell_type": "code",
   "execution_count": null,
   "id": "a1f48bb3-d5a5-4c0a-81a9-1d125005e428",
   "metadata": {},
   "outputs": [],
   "source": []
  },
  {
   "cell_type": "code",
   "execution_count": null,
   "id": "f51c542d-f408-4849-a862-cce34cda9e41",
   "metadata": {},
   "outputs": [],
   "source": []
  }
 ],
 "metadata": {
  "kernelspec": {
   "display_name": "sonic_env",
   "language": "python",
   "name": "sonic_env"
  },
  "language_info": {
   "codemirror_mode": {
    "name": "ipython",
    "version": 3
   },
   "file_extension": ".py",
   "mimetype": "text/x-python",
   "name": "python",
   "nbconvert_exporter": "python",
   "pygments_lexer": "ipython3",
   "version": "3.9.19"
  }
 },
 "nbformat": 4,
 "nbformat_minor": 5
}
